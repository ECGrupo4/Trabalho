{
 "cells": [
  {
   "cell_type": "code",
   "execution_count": 2,
   "id": "1b8c7650",
   "metadata": {},
   "outputs": [],
   "source": [
    "from Bio import Seq\n",
    "from Bio import SeqIO"
   ]
  },
  {
   "cell_type": "code",
   "execution_count": 3,
   "id": "49fb5737",
   "metadata": {},
   "outputs": [
    {
     "data": {
      "text/plain": [
       "SeqRecord(seq=Seq('GCTGATGGATTGCAGAAGTGCCGGCGCTTGCCAGCCGAGGCAGCACGGCTCCGC...GCA'), id='NG_009030.2', name='NG_009030', description='Homo sapiens GLI family zinc finger 2 (GLI2), RefSeqGene on chromosome 2', dbxrefs=[])"
      ]
     },
     "execution_count": 3,
     "metadata": {},
     "output_type": "execute_result"
    }
   ],
   "source": [
    "#Gene Gli2\n",
    "G=SeqIO.read(\"sequence_Gli2.gb\", \"genbank\")\n",
    "G"
   ]
  },
  {
   "cell_type": "code",
   "execution_count": 4,
   "id": "ce39c6a2",
   "metadata": {},
   "outputs": [
    {
     "data": {
      "text/plain": [
       "SeqRecord(seq=Seq('GTCAATAATCTCCGCTCCCAGACTACTCCGTTCCTCCGGATTTCGATCCCCCTT...AAA'), id='NG_012631.1', name='NG_012631', description='Homo sapiens transcription factor 7 like 2 (TCF7L2), RefSeqGene on chromosome 10', dbxrefs=[])"
      ]
     },
     "execution_count": 4,
     "metadata": {},
     "output_type": "execute_result"
    }
   ],
   "source": [
    "#Gene TCF7L2\n",
    "T=SeqIO.read(\"sequence_TCF7L2.gb\",\"genbank\")\n",
    "T"
   ]
  },
  {
   "cell_type": "code",
   "execution_count": 5,
   "id": "3791af61",
   "metadata": {},
   "outputs": [
    {
     "name": "stdout",
     "output_type": "stream",
     "text": [
      "Gene Gli2 {'molecule_type': 'DNA', 'topology': 'linear', 'data_file_division': 'PRI', 'date': '02-JAN-2023', 'accessions': ['NG_009030', 'REGION:', '5002..261787'], 'sequence_version': 2, 'keywords': ['RefSeq', 'RefSeqGene'], 'source': 'Homo sapiens (human)', 'organism': 'Homo sapiens', 'taxonomy': ['Eukaryota', 'Metazoa', 'Chordata', 'Craniata', 'Vertebrata', 'Euteleostomi', 'Mammalia', 'Eutheria', 'Euarchontoglires', 'Primates', 'Haplorrhini', 'Catarrhini', 'Hominidae', 'Homo'], 'references': [Reference(title='Holoprosencephaly Overview', ...)], 'comment': 'REVIEWED REFSEQ: This record has been curated by NCBI staff. The\\nreference sequence was derived from AC018866.9, AC017033.5,\\nKF510752.1, KF510212.1 and AC016764.8.\\nThis sequence is a reference standard in the RefSeqGene project.\\nOn Sep 14, 2022 this sequence version replaced NG_009030.1.\\nSummary: This gene encodes a protein which belongs to the C2H2-type\\nzinc finger protein subclass of the Gli family. Members of this\\nsubclass are characterized as transcription factors which bind DNA\\nthrough zinc finger motifs. These motifs contain conserved H-C\\nlinks. Gli family zinc finger proteins are mediators of Sonic\\nhedgehog (Shh) signaling and they are implicated as potent\\noncogenes in the embryonal carcinoma cell. The protein encoded by\\nthis gene localizes to the cytoplasm and activates patched\\nDrosophila homolog (PTCH) gene expression. It is also thought to\\nplay a role during embryogenesis. The encoded protein is associated\\nwith several phenotypes- Greig cephalopolysyndactyly syndrome,\\nPallister-Hall syndrome, preaxial polydactyly type IV, postaxial\\npolydactyly types A1 and B. [provided by RefSeq, Jul 2008].'}\n"
     ]
    }
   ],
   "source": [
    "#Anotações\n",
    "print(\"Gene Gli2\", G.annotations)\n",
    "\n",
    "#Exemplo \n",
    "#G.annotations[\"organism\"]"
   ]
  },
  {
   "cell_type": "code",
   "execution_count": 6,
   "id": "416ce5a1",
   "metadata": {},
   "outputs": [
    {
     "name": "stdout",
     "output_type": "stream",
     "text": [
      "Gene TCF7L2 {'molecule_type': 'DNA', 'topology': 'linear', 'data_file_division': 'PRI', 'date': '19-DEC-2022', 'accessions': ['NG_012631', 'REGION:', '4998..222429'], 'sequence_version': 1, 'keywords': ['RefSeq', 'RefSeqGene'], 'source': 'Homo sapiens (human)', 'organism': 'Homo sapiens', 'taxonomy': ['Eukaryota', 'Metazoa', 'Chordata', 'Craniata', 'Vertebrata', 'Euteleostomi', 'Mammalia', 'Eutheria', 'Euarchontoglires', 'Primates', 'Haplorrhini', 'Catarrhini', 'Hominidae', 'Homo'], 'references': [Reference(title='Dominant-negative isoforms of Tcf/Lef proteins in development and disease', ...), Reference(title='A novel mechanism for the transcriptional regulation of Wnt signaling in development', ...)], 'comment': 'REVIEWED REFSEQ: This record has been curated by NCBI staff. The\\nreference sequence was derived from AL158212.15, AL445486.10,\\nAL135792.10 and AL451084.19.\\nThis sequence is a reference standard in the RefSeqGene project.\\nSummary: This gene encodes a high mobility group (HMG)\\nbox-containing transcription factor that plays a key role in the\\nWnt signaling pathway. The protein has been implicated in blood\\nglucose homeostasis. Genetic variants of this gene are associated\\nwith increased risk of type 2 diabetes. Several transcript variants\\nencoding multiple different isoforms have been found for this\\ngene.[provided by RefSeq, Oct 2010].'}\n"
     ]
    }
   ],
   "source": [
    "print(\"Gene TCF7L2\", T.annotations)"
   ]
  },
  {
   "cell_type": "code",
   "execution_count": 7,
   "id": "61b86064",
   "metadata": {},
   "outputs": [],
   "source": [
    "#Features e Qualifiers"
   ]
  },
  {
   "cell_type": "code",
   "execution_count": 16,
   "id": "9bfc9994",
   "metadata": {},
   "outputs": [
    {
     "name": "stdout",
     "output_type": "stream",
     "text": [
      "O número de features é:  35\n",
      "Tipo e localização\n",
      "source [0:256786](+)\n",
      "gene [0:256786](+)\n",
      "mRNA join{[0:418](+), [61423:61601](+), [191493:191599](+), [215375:215578](+), [219377:219563](+), [232846:233048](+), [234525:234739](+), [236073:236196](+), [239107:239242](+), [242566:242716](+), [246848:247013](+), [248603:248876](+), [250410:250747](+), [252340:256786](+)}\n",
      "exon [0:418](+)\n",
      "exon [61423:61601](+)\n",
      "CDS join{[61453:61601](+), [191493:191599](+), [215375:215578](+), [219377:219563](+), [232846:233048](+), [234525:234739](+), [236073:236196](+), [239107:239242](+), [242566:242716](+), [246848:247013](+), [248603:248876](+), [250410:250747](+), [252340:254808](+)}\n",
      "misc_feature [61453:61519](+)\n",
      "misc_feature [215565:215568](+)\n",
      "misc_feature [232902:232905](+)\n",
      "misc_feature [232908:232911](+)\n",
      "misc_feature [232926:232929](+)\n",
      "misc_feature join{[234703:234739](+), [236073:236181](+)}\n",
      "misc_feature [236175:236178](+)\n",
      "misc_feature [248648:248828](+)\n",
      "misc_feature join{[248867:248876](+), [250410:250602](+)}\n",
      "misc_feature [250626:250629](+)\n",
      "misc_feature join{[250677:250747](+), [252340:252684](+)}\n",
      "misc_feature [250722:250725](+)\n",
      "misc_feature [252819:253137](+)\n",
      "misc_feature [253077:253080](+)\n",
      "misc_feature [253590:253692](+)\n",
      "misc_feature [254307:254370](+)\n",
      "misc_feature [254451:254541](+)\n",
      "exon [191493:191599](+)\n",
      "exon [215375:215578](+)\n",
      "exon [219377:219563](+)\n",
      "exon [232846:233048](+)\n",
      "exon [234525:234739](+)\n",
      "exon [236073:236196](+)\n",
      "exon [239107:239242](+)\n",
      "exon [242566:242716](+)\n",
      "exon [246848:247013](+)\n",
      "exon [248603:248876](+)\n",
      "exon [250410:250747](+)\n",
      "exon [252340:256786](+)\n"
     ]
    }
   ],
   "source": [
    "#Gene Gli2\n",
    "\n",
    "print(\"O número de features é: \",len(G.features),)\n",
    "\n",
    "print(\"Tipo e localização\")\n",
    "for f in G.features: \n",
    "    print(f.type, f.location)"
   ]
  },
  {
   "cell_type": "code",
   "execution_count": 9,
   "id": "3764bdc1",
   "metadata": {},
   "outputs": [
    {
     "name": "stdout",
     "output_type": "stream",
     "text": [
      "Índice das sequências codificantes\n",
      "[5]\n"
     ]
    }
   ],
   "source": [
    "print(\"Índice das sequências codificantes\")\n",
    "feat_cds = []\n",
    "for f in range(len(G.features)):\n",
    "    if G.features[f].type == \"CDS\":\n",
    "        feat_cds.append(f)\n",
    "print(feat_cds)"
   ]
  },
  {
   "cell_type": "code",
   "execution_count": 10,
   "id": "ac4fb0fe",
   "metadata": {},
   "outputs": [
    {
     "name": "stdout",
     "output_type": "stream",
     "text": [
      "O número de features é:  33\n",
      "Tipo e localização\n",
      "source [0:217432](+)\n",
      "gene [0:217432](+)\n",
      "mRNA join{[0:699](+), [960:1027](+), [1236:1361](+), [14309:14378](+), [89778:89880](+), [190937:191070](+), [193676:193779](+), [195764:195851](+), [200751:200877](+), [201478:201638](+), [202086:202194](+), [207774:207823](+), [208420:208471](+), [209673:209746](+), [215308:217432](+)}\n",
      "exon [0:699](+)\n",
      "CDS join{[510:699](+), [960:1027](+), [1236:1361](+), [14309:14378](+), [89778:89880](+), [190937:191070](+), [193676:193779](+), [195764:195851](+), [200751:200877](+), [201478:201638](+), [202086:202194](+), [207774:207823](+), [208420:208471](+), [209673:209746](+), [215308:215726](+)}\n",
      "misc_feature join{[510:699](+), [960:1027](+), [1236:1268](+)}\n",
      "misc_feature [510:669](+)\n",
      "misc_feature join{[190985:191070](+), [193676:193779](+), [195764:195851](+), [200751:200877](+), [201478:201638](+), [202086:202110](+)}\n",
      "misc_feature [190985:190988](+)\n",
      "misc_feature [191018:191021](+)\n",
      "misc_feature join{[200827:200877](+), [201478:201527](+)}\n",
      "misc_feature join{[202182:202194](+), [207774:207823](+), [208420:208425](+)}\n",
      "misc_feature [207777:207795](+)\n",
      "misc_feature join{[209678:209746](+), [215308:215381](+)}\n",
      "misc_feature [215351:215507](+)\n",
      "misc_feature [215585:215723](+)\n",
      "exon [960:1027](+)\n",
      "exon [1236:1361](+)\n",
      "exon [14309:14378](+)\n",
      "gene [37235:37618](+)\n",
      "exon [89778:89880](+)\n",
      "gene [95108:95330](+)\n",
      "ncRNA [95108:95330](+)\n",
      "exon [190937:191070](+)\n",
      "exon [193676:193779](+)\n",
      "exon [195764:195851](+)\n",
      "exon [200751:200877](+)\n",
      "exon [201478:201638](+)\n",
      "exon [202086:202194](+)\n",
      "exon [207774:207823](+)\n",
      "exon [208420:208471](+)\n",
      "exon [209673:209746](+)\n",
      "exon [215308:217432](+)\n"
     ]
    }
   ],
   "source": [
    "#Gene TCF7L2\n",
    "\n",
    "print(\"O número de features é: \",len(T.features),)\n",
    "\n",
    "print(\"Tipo e localização\")\n",
    "for f in T.features: \n",
    "    print(f.type, f.location)"
   ]
  },
  {
   "cell_type": "code",
   "execution_count": 11,
   "id": "8f95e030",
   "metadata": {},
   "outputs": [
    {
     "name": "stdout",
     "output_type": "stream",
     "text": [
      "Índice das sequências codificantes\n",
      "[4]\n"
     ]
    }
   ],
   "source": [
    "print(\"Índice das sequências codificantes\")\n",
    "feat_cds = []\n",
    "for f in range(len(T.features)):\n",
    "    if T.features[f].type == \"CDS\":\n",
    "        feat_cds.append(f) \n",
    "print(feat_cds)"
   ]
  },
  {
   "cell_type": "code",
   "execution_count": 12,
   "id": "0d30fe1c",
   "metadata": {},
   "outputs": [
    {
     "name": "stdout",
     "output_type": "stream",
     "text": [
      "Qualifiers de CDS\n",
      "OrderedDict([('gene', ['GLI2']), ('gene_synonym', ['CJS; HPE9; PHS2; THP1; THP2']), ('note', ['isoform 2 is encoded by transcript variant 3; tax-responsive element-2 holding protein; GLI-Kruppel family member GLI2; glioma-associated oncogene family zinc finger 2; tax helper protein 2; zinc finger protein GLI2; tax-responsive element-25-bp sequence binding protein; oncogene GLI2; tax helper protein 1; GLI family zinc finger protein 2']), ('codon_start', ['1']), ('product', ['zinc finger protein GLI2 isoform 2']), ('protein_id', ['NP_001361282.1']), ('db_xref', ['CCDS:CCDS92850.1', 'GeneID:2736', 'HGNC:HGNC:4318', 'MIM:165230']), ('translation', ['METSASATASEKQEAKSGILEAAGFPDPGKKASPLVVAAAAAAAVAAQGVPQHLLPPFHAPLPIDMRHQEGRYHYEPHSVHGVHGPPALSGSPVISDISLIRLSPHPAGPGESPFNAPHPYVNPHMEHYLRSVHSSPTLSMISAARGLSPADVAQEHLKERGLFGLPAPGTTPSDYYHQMTLVAGHPAPYGDLLMQSGGAASAPHLHDYLNPVDVSRFSSPRVTPRLSRKRALSISPLSDASLDLQRMIRTSPNSLVAYINNSRSSSAASGSYGHLSAGALSPAFTFPHPINPVAYQQILSQQRGLGSAFGHTPPLIQPSPTFLAQQPMALTSINATPTQLSSSSNCLSDTNQNKQSSESAVSSTVNPVAIHKRSKVKTEPEGLRPASPLALTQEQLADLKEDLDRDDCKQEAEVVIYETNCHWEDCTKEYDTQEQLVHHINNEHIHGEKKEFVCRWQACTREQKPFKAQYMLVVHMRRHTGEKPHKCTFEGCSKAYSRLENLKTHLRSHTGEKPYVCEHEGCNKAFSNASDRAKHQNRTHSNEKPYICKIPGCTKRYTDPSSLRKHVKTVHGPDAHVTKKQRNDVHLRTPLLKENGDSEAGTEPGGPESTEASSTSQAVEDCLHVRAIKTESSGLCQSSPGAQSSCSSEPSPLGSAPNNDSGVEMPGTGPGSLGDLTALDDTPPGADTSALAAPSAGGLQLRKHMTTMHRFEQLKKEKLKSLKDSCSWAGPTPHTRNTKLPPLPGSGSILENFSGSGGGGPAGLLPNPRLSELSASEVTMLSQLQERRDSSTSTVSSAYTVSRRSSGISPYFSSRRSSEASPLGAGRPHNASSADSYDPISTDASRRSSEASQCSGGSGLLNLTPAQQYSLRAKYAAATGGPPPTPLPGLERMSLRTRLALLDAPERTLPAGCPRPLGPRRGSDGPTYGHGHAGAAPAFPHEAPGGGARRASDPVRRPDALSLPRVQRFHSTHNVNPGPLPPCADRRGLRLQSHPSTDGGLARGAYSPRPPSISENVAMEAVAAGVDGAGPEADLGLPEDDLVLPDDVVQYIKAHASGALDEGTGQVYPTESTGFSDNPRLPSPGLHGQRRMVAADSNVGPSAPMLGGCQLGFGAPSSLNKNNMPVQWNEVSSGTVDALASQVKPPPFPQGNLAVVQQKPAFGQYPGYSPQGLQASPGGLDSTQPHLQPRSGAPSQGIPRVNYMQQLRQPVAGSQCPGMTTTMSPHACYGQVHPQLSPSTISGALNQFPQSCSNMPAKPGHLGHPQQTEVAPDPTTMGNRHRELGVPDSALAGVPPPHPVQSYPQQSHHLAASMSQEGYHQVPSLLPARQPGFMEPQTGPMGVATAGFGLVQPRPPLEPSPTGRHRGVRAVQQQLAYARATGHAMAAMPSSQETAEAVPKGAMGNMGSVPPQPPPQDAGGAPDHSMLYYYGQIHMYEQDGGLENLGSCQVMRSQPPQPQACQDSIQPQPLPSPGVNQVSSTVDSQLLEAPQIDFDAIMDDGDHSSLFSGALSPSLLHSLSQNSSRLTTPRNSLTLPSIPAGISNMAVGDMSSMLTSLAEESKFLNMMT'])])\n"
     ]
    }
   ],
   "source": [
    "#Qualifiers \n",
    "\n",
    "#Gene Gli2\n",
    "print (\"Qualifiers de CDS\")\n",
    "for f in range (len(G.features)):\n",
    "    if G.features[f].type==\"CDS\":\n",
    "        print (G.features[f].qualifiers)"
   ]
  },
  {
   "cell_type": "code",
   "execution_count": 13,
   "id": "efa832b8",
   "metadata": {},
   "outputs": [
    {
     "name": "stdout",
     "output_type": "stream",
     "text": [
      "Qualifiers de CDS\n",
      "OrderedDict([('gene', ['TCF7L2']), ('gene_synonym', ['TCF-4; TCF4']), ('note', ['isoform 17 is encoded by transcript variant 17; transcription factor 7-like 2 (T-cell specific, HMG-box); hTCF-4; T-cell factor 4; HMG box transcription factor 4; T-cell-specific transcription factor 4']), ('codon_start', ['1']), ('product', ['transcription factor 7-like 2 isoform 17']), ('protein_id', ['NP_001354872.1']), ('db_xref', ['CCDS:CCDS91348.1', 'GeneID:6934', 'HGNC:HGNC:11641', 'MIM:602228']), ('translation', ['MPQLNGGGGDDLGANDELISFKDEGEQEEKSSENSSAERDLADVKSSLVNESETNQNSSSDSEAERRPPPRSESFRDKSRESLEEAAKRQDGGLFKGPPYPGYPFIMIPDLTSPYLPNGSLSPTARTLHFQSGSTHYSAYKTIEHQIAVQYLQMKWPLLDVQAGSLQSRQALKDARSPSPAHIVSNKVPVVQHPHHVHPLTPLITYSNEHFTPGNPPPHLPADVDPKTGIPRPPHPPDISPYYPLSPGTVGQIPHPLGWLVPQQGQPVYPITTGGFRHPYPTALTVNASMSRFPPHMVPPHHTLHTTGIPHPAIVTPTVKQESSQSDVGSLHSSKHQDSKKEEEKKKPHIKKPLNAFMLYMKEMRAKVVAECTLKESAAINQILGRRWHALSREEQAKYYELARKERQLHMQLYPGWSARDNYGKKKKRKRDKQPGETNEHSECFLNPCLSLPPITDLSAPKKCRARFGLDQQNNWCGPCRRKKKCVRYIQGEGSCLSPPSSDGSLLDSPPPSPNLLGSPPRDAKSQTEQTQPLSLSLKPDPLAHLSMMPPPPALLLAEATHKASALCPNGALDLPPAALQPAAPSSSIAQPSTSSLHSHSSLAGTQPQPLSLVTKSLE'])])\n"
     ]
    }
   ],
   "source": [
    "#Gene TCF7L2\n",
    "print (\"Qualifiers de CDS\")\n",
    "for f in range (len(T.features)):\n",
    "    if T.features[f].type==\"CDS\":\n",
    "        print (T.features[f].qualifiers)"
   ]
  },
  {
   "cell_type": "code",
   "execution_count": null,
   "id": "c198704e",
   "metadata": {},
   "outputs": [],
   "source": []
  }
 ],
 "metadata": {
  "kernelspec": {
   "display_name": "Python 3 (ipykernel)",
   "language": "python",
   "name": "python3"
  },
  "language_info": {
   "codemirror_mode": {
    "name": "ipython",
    "version": 3
   },
   "file_extension": ".py",
   "mimetype": "text/x-python",
   "name": "python",
   "nbconvert_exporter": "python",
   "pygments_lexer": "ipython3",
   "version": "3.9.12"
  }
 },
 "nbformat": 4,
 "nbformat_minor": 5
}
