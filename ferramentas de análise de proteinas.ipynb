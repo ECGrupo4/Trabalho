{
 "cells": [
  {
   "cell_type": "code",
   "execution_count": 1,
   "id": "74d37713",
   "metadata": {
    "scrolled": false
   },
   "outputs": [
    {
     "name": "stdout",
     "output_type": "stream",
     "text": [
      "Which gene are you looking for (Gli2 or TCF7L2):Gli2\n",
      ">GLI2_HUMAN | Homo sapiens (Human).\n",
      "METSASATASEKQEAKSGILEAAGFPDPGKKASPLVVAAAAAAAVAAQGVPQHLLPPFHAPLPIDMRHQEGRYHYEPHSVHGVHGPPALSGSPVISDISLIRLSPHPAGPGESPFNAPHPYVNPHMEHYLRSVHSSPTLSMISAARGLSPADVAQEHLKERGLFGLPAPGTTPSDYYHQMTLVAGHPAPYGDLLMQSGGAASAPHLHDYLNPVDVSRFSSPRVTPRLSRKRALSISPLSDASLDLQRMIRTSPNSLVAYINNSRSSSAASGSYGHLSAGALSPAFTFPHPINPVAYQQILSQQRGLGSAFGHTPPLIQPSPTFLAQQPMALTSINATPTQLSSSSNCLSDTNQNKQSSESAVSSTVNPVAIHKRSKVKTEPEGLRPASPLALTQGQVSGHGSCGCALPLSQEQLADLKEDLDRDDCKQEAEVVIYETNCHWEDCTKEYDTQEQLVHHINNEHIHGEKKEFVCRWQACTREQKPFKAQYMLVVHMRRHTGEKPHKCTFEGCSKAYSRLENLKTHLRSHTGEKPYVCEHEGCNKAFSNASDRAKHQNRTHSNEKPYICKIPGCTKRYTDPSSLRKHVKTVHGPDAHVTKKQRNDVHLRTPLLKENGDSEAGTEPGGPESTEASSTSQAVEDCLHVRAIKTESSGLCQSSPGAQSSCSSEPSPLGSAPNNDSGVEMPGTGPGSLGDLTALDDTPPGADTSALAAPSAGGLQLRKHMTTMHRFEQLKKEKLKSLKDSCSWAGPTPHTRNTKLPPLPGSGSILENFSGSGGGGPAGLLPNPRLSELSASEVTMLSQLQERRDSSTSTVSSAYTVSRRSSGISPYFSSRRSSEASPLGAGRPHNASSADSYDPISTDASRRSSEASQCSGGSGLLNLTPAQQYSLRAKYAAATGGPPPTPLPGLERMSLRTRLALLDAPERTLPAGCPRPLGPRRGSDGPTYGHGHAGAAPAFPHEAPGGGARRASDPVRRPDALSLPRVQRFHSTHNVNPGPLPPCADRRGLRLQSHPSTDGGLARGAYSPRPPSISENVAMEAVAAGVDGAGPEADLGLPEDDLVLPDDVVQYIKAHASGALDEGTGQVYPTESTGFSDNPRLPSPGLHGQRRMVAADSNVGPSAPMLGGCQLGFGAPSSLNKNNMPVQWNEVSSGTVDALASQVKPPPFPQGNLAVVQQKPAFGQYPGYSPQGLQASPGGLDSTQPHLQPRSGAPSQGIPRVNYMQQLRQPVAGSQCPGMTTTMSPHACYGQVHPQLSPSTISGALNQFPQSCSNMPAKPGHLGHPQQTEVAPDPTTMGNRHRELGVPDSALAGVPPPHPVQSYPQQSHHLAASMSQEGYHQVPSLLPARQPGFMEPQTGPMGVATAGFGLVQPRPPLEPSPTGRHRGVRAVQQQLAYARATGHAMAAMPSSQETAEAVPKGAMGNMGSVPPQPPPQDAGGAPDHSMLYYYGQIHMYEQDGGLENLGSCQVMRSQPPQPQACQDSIQPQPLPSPGVNQVSSTVDSQLLEAPQIDFDAIMDDGDHSSLFSGALSPSLLHSLSQNSSRLTTPRNSLTLPSIPAGISNMAVGDMSSMLTSLAEESKFLNMMT\n",
      "\n",
      "TAXONOMY: Eukaryota | Metazoa | Chordata | Craniata | Vertebrata | Euteleostomi | Mammalia | Eutheria | Euarchontoglires | Primates | Haplorrhini | Catarrhini | Hominidae | Homo \n",
      "SEQUENCE LENGHT: 1586\n",
      "FUNCTION: Functions as transcription regulator in the hedgehog (Hh) pathway (PubMed:18455992, PubMed:26565916). Functions as transcriptional activator (PubMed:9557682, PubMed:19878745, PubMed:24311597). May also function as transcriptional repressor (By similarity). Requires STK36 for full transcriptional activator activity. Required for normal embryonic development (PubMed:15994174, PubMed:20685856). \n",
      "FUNCTION: [Isoform 1]: Involved in the smoothened (SHH) signaling pathway. \n",
      "FUNCTION: [Isoform 2]: Involved in the smoothened (SHH) signaling pathway. \n",
      "FUNCTION: [Isoform 3]: Involved in the smoothened (SHH) signaling pathway. \n",
      "FUNCTION: [Isoform 4]: Involved in the smoothened (SHH) signaling pathway. \n",
      "FUNCTION: [Isoform 1]: Acts as a transcriptional activator in T-cell leukemia virus type 1 (HTLV-1)-infected cells in a Tax-dependent manner. Binds to the DNA sequence 5'-GAACCACCCA-3' which is part of the Tax-responsive element (TRE-2S) regulatory element that augments the Tax-dependent enhancer of HTLV-1 (PubMed:9557682). \n",
      "FUNCTION: [Isoform 2]: (Microbial infection) Acts as a transcriptional activators in T-cell leukemia virus type 1 (HTLV-1)-infected cells in a Tax-dependent manner. Binds to the DNA sequence 5'-GAACCACCCA-3' which is part of the Tax-responsive element (TRE-2S) regulatory element that augments the Tax-dependent enhancer of HTLV-1 (PubMed:9557682). \n",
      "FUNCTION: [Isoform 3]: (Microbial infection) Acts as a transcriptional activators in T-cell leukemia virus type 1 (HTLV-1)-infected cells in a Tax-dependent manner. Binds to the DNA sequence 5'-GAACCACCCA-3' which is part of the Tax-responsive element (TRE-2S) regulatory element that augments the Tax-dependent enhancer of HTLV-1 (PubMed:9557682). \n",
      "FUNCTION: [Isoform 4]: (Microbial infection) Acts as a transcriptional activators in T-cell leukemia virus type 1 (HTLV-1)-infected cells in a Tax-dependent manner. Binds to the DNA sequence 5'-GAACCACCCA-3' which is part of the Tax-responsive element (TRE-2S) regulatory element that augments the Tax-dependent enhancer of HTLV-1 (PubMed:9557682). \n",
      "FUNCTION: [Isoform 5]: Acts as a transcriptional repressor. \n",
      "SUBUNIT: Interaction with ZIC1 and ZIC2 (By similarity). Interacts with STK36 (PubMed:10806483). Interacts with SUFU; this inhibits transcriptional activation mediated by GLI2 (PubMed:24311597). Interacts (via C-terminal internal region) with FOXC1 (via N-terminus); this interaction is direct and increases GLI2 DNA-binding and transcriptional activity through a smoothened (SMO)-independent Hedgehog (Hh) signaling pathway (PubMed:26565916). \n",
      "SUBCELLULAR LOCATION: Nucleus \n",
      "SUBCELLULAR LOCATION: [Isoform 1]: Nucleus \n",
      "SUBCELLULAR LOCATION: [Isoform 2]: Nucleus \n",
      "TISSUE SPECIFICITY: Expressed in breast cancers (at protein level) (PubMed:26565916). Isoform 1 and isoform 4 are expressed in HTLV-1- infected T-cell lines (at protein level) (PubMed:9557682). Isoform 1 and isoform 2 are strongly expressed in HTLV-1-infected T-cell lines (PubMed:9557682). Isoform 3 and isoform 4 are weakly expressed in HTLV- 1-infected T-cell lines (PubMed:9557682). \n",
      "DOMAIN: The N-terminal domain confers transcriptional repressor activity, while the C-terminal domain mediates transcriptional activation. \n",
      "PTM: Phosphorylated in vitro by ULK3. Phosphorylated by DYRK2; this inhibits GLI2 transcription factor activity and promotes proteasomal degradation of GLI2. \n",
      "PTM: Acetylation at Lys-757 inhibits Hh target gene expression, probably by impeding entry into chromatin thus preventing promoter occupancy. \n",
      "SIMILARITY: Belongs to the GLI C2H2-type zinc-finger protein family. \n",
      "KEYWORDS: Acetylation | Activator | Alternative splicing | Cell projection | Cilium | Cytoplasm | Developmental protein | Disease variant | DNA-binding | Holoprosencephaly | Isopeptide bond | Metal-binding | Nucleus | Phosphoprotein | Reference proteome | Repeat | Repressor | Transcription | Transcription regulation | Ubl conjugation | Zinc | Zinc-finger | \n"
     ]
    }
   ],
   "source": [
    "from Bio import ExPASy\n",
    "import Bio.SwissProt as sp\n",
    "\n",
    "while True:\n",
    "    try:\n",
    "        x = input(\"Which gene are you looking for (Gli2 or TCF7L2):\")\n",
    "        if x not in [\"Gli2\", \"TCF7L2\"]: \n",
    "            raise ValueError(\"Inserted gene not valid!\")\n",
    "        break\n",
    "    except ValueError as error:\n",
    "        print(error)\n",
    "\n",
    "f = open(f\"{x}_UniProt.txt\")\n",
    "info = sp.read(f)\n",
    "print(f\">{info.entry_name} | {info.organism}\")\n",
    "print(info.sequence)\n",
    "\n",
    "taxonomia = ''.join(f\"{m} | \" for m in info.organism_classification)\n",
    "print(f\"\\nTAXONOMY: {taxonomia[:-2]}\")\n",
    "print(f\"SEQUENCE LENGHT: {info.sequence_length}\")\n",
    "\n",
    "#print(info.comments)\n",
    "for member in info.comments:\n",
    "    x = member.find(\"SIMILARITY\")\n",
    "    y = member.find(\"FUNCTION\")\n",
    "    z = member.find(\"SUBCELLULAR LOCATION\")\n",
    "    k = member.find (\"DOMAIN\")\n",
    "    n = member.find (\"PTM\")\n",
    "    o = member.find (\"TISSUE SPECIFICITY\")\n",
    "    i = member.find (\"SUBUNIT\")\n",
    "   #p = member.find (\"DEVELOPMENTAL STAGE\")\n",
    "        \n",
    "    if y != -1: \n",
    "        function = member.split(\"{\")\n",
    "        print(function[0])\n",
    "    if x != -1: \n",
    "        similarity = member.split(\"{\")\n",
    "        print(similarity[0])\n",
    "    if z != -1:\n",
    "        sub_location = member.split(\"{\")\n",
    "        print(sub_location[0])\n",
    "    if k != -1:\n",
    "        domain = member.split(\"{\")\n",
    "        print(domain[0])\n",
    "    if n != -1:\n",
    "        ptm= member.split(\"{\")\n",
    "        print(ptm[0])\n",
    "    if o != -1:\n",
    "        ex= member.split(\"{\")\n",
    "        print(ex[0])\n",
    "    if i != -1:\n",
    "        inter= member.split(\"{\")\n",
    "        print(inter[0])\n",
    "    #if p != -1:\n",
    "        #ds= member.split(\"{\")\n",
    "       # print(ds[0])\n",
    "  \n",
    "\n",
    "keywords = ''.join(f\"{m} | \" for m in info.keywords)\n",
    "print(f\"KEYWORDS: {keywords}\")\n",
    "#print(info.features)"
   ]
  },
  {
   "cell_type": "code",
   "execution_count": 2,
   "id": "6a8208f5",
   "metadata": {},
   "outputs": [],
   "source": [
    "#modificações pós-tradução no padlet"
   ]
  },
  {
   "cell_type": "code",
   "execution_count": null,
   "id": "fa46d951",
   "metadata": {},
   "outputs": [],
   "source": []
  }
 ],
 "metadata": {
  "kernelspec": {
   "display_name": "Python 3 (ipykernel)",
   "language": "python",
   "name": "python3"
  },
  "language_info": {
   "codemirror_mode": {
    "name": "ipython",
    "version": 3
   },
   "file_extension": ".py",
   "mimetype": "text/x-python",
   "name": "python",
   "nbconvert_exporter": "python",
   "pygments_lexer": "ipython3",
   "version": "3.9.12"
  }
 },
 "nbformat": 4,
 "nbformat_minor": 5
}
