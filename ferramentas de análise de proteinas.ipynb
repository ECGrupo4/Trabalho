{
 "cells": [
  {
   "cell_type": "code",
   "execution_count": null,
   "id": "74d37713",
   "metadata": {
    "scrolled": false
   },
   "outputs": [],
   "source": [
    "from Bio import ExPASy\n",
    "import Bio.SwissProt as sp\n",
    "\n",
    "while True:\n",
    "    try:\n",
    "        x = input(\"Which gene are you looking for (Gli2 or TCF7L2):\")\n",
    "        if x not in [\"Gli2\", \"TCF7L2\"]: \n",
    "            raise ValueError(\"Inserted gene not valid!\")\n",
    "        break\n",
    "    except ValueError as error:\n",
    "        print(error)\n",
    "\n",
    "f = open(f\"{x}_UniProt.txt\")\n",
    "info = sp.read(f)\n",
    "print(f\">{info.entry_name} | {info.organism}\")\n",
    "print(info.sequence)\n",
    "\n",
    "taxonomia = ''.join(f\"{m} | \" for m in info.organism_classification)\n",
    "print(f\"\\nTAXONOMY: {taxonomia[:-2]}\")\n",
    "print(f\"SEQUENCE LENGHT: {info.sequence_length}\")\n",
    "\n",
    "#print(info.comments)\n",
    "for member in info.comments:\n",
    "    x = member.find(\"SIMILARITY\")\n",
    "    y = member.find(\"FUNCTION\")\n",
    "    z = member.find(\"SUBCELLULAR LOCATION\")\n",
    "    k = member.find (\"DOMAIN\")\n",
    "    n = member.find (\"PTM\")\n",
    "    o = member.find (\"TISSUE SPECIFICITY\")\n",
    "    i = member.find (\"SUBUNIT\")\n",
    "   #p = member.find (\"DEVELOPMENTAL STAGE\")\n",
    "        \n",
    "    if y != -1: \n",
    "        function = member.split(\"{\")\n",
    "        print(function[0])\n",
    "    if x != -1: \n",
    "        similarity = member.split(\"{\")\n",
    "        print(similarity[0])\n",
    "    if z != -1:\n",
    "        sub_location = member.split(\"{\")\n",
    "        print(sub_location[0])\n",
    "    if k != -1:\n",
    "        domain = member.split(\"{\")\n",
    "        print(domain[0])\n",
    "    if n != -1:\n",
    "        ptm= member.split(\"{\")\n",
    "        print(ptm[0])\n",
    "    if o != -1:\n",
    "        ex= member.split(\"{\")\n",
    "        print(ex[0])\n",
    "    if i != -1:\n",
    "        inter= member.split(\"{\")\n",
    "        print(inter[0])\n",
    "    #if p != -1:\n",
    "        #ds= member.split(\"{\")\n",
    "       # print(ds[0])\n",
    "  \n",
    "\n",
    "keywords = ''.join(f\"{m} | \" for m in info.keywords)\n",
    "print(f\"KEYWORDS: {keywords}\")\n",
    "#print(info.features)"
   ]
  },
  {
   "cell_type": "code",
   "execution_count": null,
   "id": "6a8208f5",
   "metadata": {},
   "outputs": [],
   "source": [
    "#modificações pós-tradução no padlet"
   ]
  },
  {
   "cell_type": "code",
   "execution_count": null,
   "id": "fa46d951",
   "metadata": {},
   "outputs": [],
   "source": []
  }
 ],
 "metadata": {
  "kernelspec": {
   "display_name": "Python 3 (ipykernel)",
   "language": "python",
   "name": "python3"
  },
  "language_info": {
   "codemirror_mode": {
    "name": "ipython",
    "version": 3
   },
   "file_extension": ".py",
   "mimetype": "text/x-python",
   "name": "python",
   "nbconvert_exporter": "python",
   "pygments_lexer": "ipython3",
   "version": "3.9.12"
  }
 },
 "nbformat": 4,
 "nbformat_minor": 5
}
