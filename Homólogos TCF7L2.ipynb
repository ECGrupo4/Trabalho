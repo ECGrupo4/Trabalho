{
 "cells": [
  {
   "cell_type": "code",
   "execution_count": 1,
   "id": "85ae86b2",
   "metadata": {},
   "outputs": [],
   "source": [
    "from Bio.Blast import NCBIXML \n",
    "from Bio.Blast import NCBIWWW \n",
    "from Bio import SeqIO"
   ]
  },
  {
   "cell_type": "code",
   "execution_count": 2,
   "id": "b3ab7b00",
   "metadata": {},
   "outputs": [
    {
     "name": "stdout",
     "output_type": "stream",
     "text": [
      "619\n"
     ]
    }
   ],
   "source": [
    "#TCF7L2, Uniprot\n",
    "seq_TCF7L2 = SeqIO.read(open(\"tcf7l2.txt\"), format=\"fasta\") \n",
    "print (len(seq_TCF7L2.seq)) #usa-se a sequência da proteína"
   ]
  },
  {
   "cell_type": "code",
   "execution_count": 3,
   "id": "95708dab",
   "metadata": {},
   "outputs": [],
   "source": [
    "#genes homologos\n",
    "result_handle = NCBIWWW.qblast(\"blastp\", \"swissprot\", seq_TCF7L2.format(\"fasta\"))"
   ]
  },
  {
   "cell_type": "code",
   "execution_count": 4,
   "id": "c384118a",
   "metadata": {},
   "outputs": [],
   "source": [
    "save_file = open(\"TCF7L2_BLAST.xml\", \"w\")\n",
    "save_file.write(result_handle.read()) \n",
    "save_file.close() \n",
    "result_handle.close()"
   ]
  },
  {
   "cell_type": "code",
   "execution_count": 5,
   "id": "9b3f1b08",
   "metadata": {},
   "outputs": [],
   "source": [
    "result_handle = open(\"TCF7L2_BLAST.xml\")\n",
    "record = NCBIXML.read(result_handle)"
   ]
  },
  {
   "cell_type": "code",
   "execution_count": 6,
   "id": "5a7e9854",
   "metadata": {},
   "outputs": [
    {
     "name": "stdout",
     "output_type": "stream",
     "text": [
      "PARAMETERS:\n",
      "Database: swissprot\n",
      "Matrix: BLOSUM62\n",
      "Gap penalties:  (11, 1)\n"
     ]
    }
   ],
   "source": [
    "print (\"PARAMETERS:\")\n",
    "print (\"Database: \" + record.database)\n",
    "print (\"Matrix: \" + record.matrix)\n",
    "print (\"Gap penalties: \", record.gap_penalties)"
   ]
  },
  {
   "cell_type": "code",
   "execution_count": 7,
   "id": "e2fc4a63",
   "metadata": {},
   "outputs": [
    {
     "name": "stdout",
     "output_type": "stream",
     "text": [
      "Accession: Q9NQB0\n",
      "Hit id: sp|Q9NQB0.2|\n",
      "Definition: RecName: Full=Transcription factor 7-like 2; AltName: Full=HMG box transcription factor 4; AltName: Full=T-cell-specific transcription factor 4; Short=T-cell factor 4; Short=TCF-4; Short=hTCF-4 [Homo sapiens]\n",
      "Number of HSPs:  1\n",
      "E-value:  0.0\n",
      "Length:  619\n",
      "Identities:  619\n",
      "Query start:  1\n",
      "Sbjct start:  1\n",
      "MPQLNGGGGDDLGANDELISFKDEGEQEEKSSENSSAERDLADVKSSLVNESETNQNSSSDSEAERRPPPRSESFRDKSRESLEEAAKRQDGGLFKGPPYPGYPFIMIPDLTSPYLPNGSLSPTARTLHFQSGSTHYSAYKTIEHQIAVQYLQMKWPLLDVQAGSLQSRQALKDARSPSPAHIVSNKVPVVQHPHHVHPLTPLITYSNEHFTPGNPPPHLPADVDPKTGIPRPPHPPDISPYYPLSPGTVGQIPHPLGWLVPQQGQPVYPITTGGFRHPYPTALTVNASMSRFPPHMVPPHHTLHTTGIPHPAIVTPTVKQESSQSDVGSLHSSKHQDSKKEEEKKKPHIKKPLNAFMLYMKEMRAKVVAECTLKESAAINQILGRRWHALSREEQAKYYELARKERQLHMQLYPGWSARDNYGKKKKRKRDKQPGETNEHSECFLNPCLSLPPITDLSAPKKCRARFGLDQQNNWCGPCRRKKKCVRYIQGEGSCLSPPSSDGSLLDSPPPSPNLLGSPPRDAKSQTEQTQPLSLSLKPDPLAHLSMMPPPPALLLAEATHKASALCPNGALDLPPAALQPAAPSSSIAQPSTSSLHSHSSLAGTQPQPLSLVTKSLE\n",
      "MPQLNGGGGDDLGANDELISFKDEGEQEEKSSENSSAERDLADVKSSLVNESETNQNSSSDSEAERRPPPRSESFRDKSRESLEEAAKRQDGGLFKGPPYPGYPFIMIPDLTSPYLPNGSLSPTARTLHFQSGSTHYSAYKTIEHQIAVQYLQMKWPLLDVQAGSLQSRQALKDARSPSPAHIVSNKVPVVQHPHHVHPLTPLITYSNEHFTPGNPPPHLPADVDPKTGIPRPPHPPDISPYYPLSPGTVGQIPHPLGWLVPQQGQPVYPITTGGFRHPYPTALTVNASMSRFPPHMVPPHHTLHTTGIPHPAIVTPTVKQESSQSDVGSLHSSKHQDSKKEEEKKKPHIKKPLNAFMLYMKEMRAKVVAECTLKESAAINQILGRRWHALSREEQAKYYELARKERQLHMQLYPGWSARDNYGKKKKRKRDKQPGETNEHSECFLNPCLSLPPITDLSAPKKCRARFGLDQQNNWCGPCRRKKKCVRYIQGEGSCLSPPSSDGSLLDSPPPSPNLLGSPPRDAKSQTEQTQPLSLSLKPDPLAHLSMMPPPPALLLAEATHKASALCPNGALDLPPAALQPAAPSSSIAQPSTSSLHSHSSLAGTQPQPLSLVTKSLE\n",
      "MPQLNGGGGDDLGANDELISFKDEGEQEEKSSENSSAERDLADVKSSLVNESETNQNSSSDSEAERRPPPRSESFRDKSRESLEEAAKRQDGGLFKGPPYPGYPFIMIPDLTSPYLPNGSLSPTARTLHFQSGSTHYSAYKTIEHQIAVQYLQMKWPLLDVQAGSLQSRQALKDARSPSPAHIVSNKVPVVQHPHHVHPLTPLITYSNEHFTPGNPPPHLPADVDPKTGIPRPPHPPDISPYYPLSPGTVGQIPHPLGWLVPQQGQPVYPITTGGFRHPYPTALTVNASMSRFPPHMVPPHHTLHTTGIPHPAIVTPTVKQESSQSDVGSLHSSKHQDSKKEEEKKKPHIKKPLNAFMLYMKEMRAKVVAECTLKESAAINQILGRRWHALSREEQAKYYELARKERQLHMQLYPGWSARDNYGKKKKRKRDKQPGETNEHSECFLNPCLSLPPITDLSAPKKCRARFGLDQQNNWCGPCRRKKKCVRYIQGEGSCLSPPSSDGSLLDSPPPSPNLLGSPPRDAKSQTEQTQPLSLSLKPDPLAHLSMMPPPPALLLAEATHKASALCPNGALDLPPAALQPAAPSSSIAQPSTSSLHSHSSLAGTQPQPLSLVTKSLE\n",
      "\n"
     ]
    }
   ],
   "source": [
    "result_handle2 = open(\"TCF7L2_BLAST.xml\")\n",
    "record2 = NCBIXML.read(result_handle2)\n",
    "\n",
    "first_alignment = record2.alignments[0]\n",
    "\n",
    "print (\"Accession: \" + first_alignment.accession)\n",
    "print (\"Hit id: \" + first_alignment.hit_id)\n",
    "print (\"Definition: \" + first_alignment.hit_def)\n",
    "\n",
    "print (\"Number of HSPs: \", len(first_alignment.hsps))\n",
    "\n",
    "for hsp in first_alignment.hsps:\n",
    "    print (\"E-value: \", hsp.expect)\n",
    "    print (\"Length: \", hsp.align_length)\n",
    "    print (\"Identities: \", hsp.identities)\n",
    "    print (\"Query start: \", hsp.query_start)\n",
    "    print (\"Sbjct start: \", hsp.sbjct_start)\n",
    "    print (hsp.query[0:619])\n",
    "    print (hsp.match[0:619])\n",
    "    print (hsp.sbjct[0:619])\n",
    "    print (\"\")"
   ]
  },
  {
   "cell_type": "code",
   "execution_count": null,
   "id": "1c346a0d",
   "metadata": {},
   "outputs": [],
   "source": []
  }
 ],
 "metadata": {
  "kernelspec": {
   "display_name": "Python 3 (ipykernel)",
   "language": "python",
   "name": "python3"
  },
  "language_info": {
   "codemirror_mode": {
    "name": "ipython",
    "version": 3
   },
   "file_extension": ".py",
   "mimetype": "text/x-python",
   "name": "python",
   "nbconvert_exporter": "python",
   "pygments_lexer": "ipython3",
   "version": "3.9.12"
  }
 },
 "nbformat": 4,
 "nbformat_minor": 5
}
